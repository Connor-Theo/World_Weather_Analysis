{
 "cells": [
  {
   "cell_type": "code",
   "execution_count": null,
   "id": "3eca810f",
   "metadata": {},
   "outputs": [],
   "source": [
    "#import the random module."
   ]
  },
  {
   "cell_type": "code",
   "execution_count": 1,
   "id": "43cc7a88",
   "metadata": {},
   "outputs": [],
   "source": [
    "import random"
   ]
  },
  {
   "cell_type": "code",
   "execution_count": 2,
   "id": "45d67798",
   "metadata": {},
   "outputs": [
    {
     "data": {
      "text/plain": [
       "0.7455209643894116"
      ]
     },
     "execution_count": 2,
     "metadata": {},
     "output_type": "execute_result"
    }
   ],
   "source": [
    "random.random()"
   ]
  },
  {
   "cell_type": "code",
   "execution_count": 4,
   "id": "52e8aae7",
   "metadata": {},
   "outputs": [
    {
     "data": {
      "text/plain": [
       "3"
      ]
     },
     "execution_count": 4,
     "metadata": {},
     "output_type": "execute_result"
    }
   ],
   "source": [
    "random.randint(0,10)"
   ]
  },
  {
   "cell_type": "code",
   "execution_count": 8,
   "id": "2453e256",
   "metadata": {},
   "outputs": [],
   "source": [
    "x = 1\n",
    "latitudes = []\n",
    "while x < 11:\n",
    "    random_lat = random.randint(-90, 89) + random.random()\n",
    "    latitudes.append(random_lat)\n",
    "    x += 1"
   ]
  },
  {
   "cell_type": "code",
   "execution_count": 10,
   "id": "1726a144",
   "metadata": {},
   "outputs": [
    {
     "data": {
      "text/plain": [
       "[-59.47094005750226,\n",
       " 77.29804521632148,\n",
       " 46.39046270455531,\n",
       " 66.04893659952468,\n",
       " -68.56298809366845,\n",
       " -0.2340701241461387,\n",
       " -49.82841804433149,\n",
       " 77.82916040108431,\n",
       " 62.887451797163045,\n",
       " -38.21756446779198]"
      ]
     },
     "execution_count": 10,
     "metadata": {},
     "output_type": "execute_result"
    }
   ],
   "source": [
    "latitudes"
   ]
  },
  {
   "cell_type": "code",
   "execution_count": 11,
   "id": "b2de4e28",
   "metadata": {},
   "outputs": [
    {
     "data": {
      "text/plain": [
       "66"
      ]
     },
     "execution_count": 11,
     "metadata": {},
     "output_type": "execute_result"
    }
   ],
   "source": [
    "random.randrange(-90,90,step = 1)"
   ]
  },
  {
   "cell_type": "code",
   "execution_count": 12,
   "id": "b946bea0",
   "metadata": {},
   "outputs": [
    {
     "data": {
      "text/plain": [
       "42"
      ]
     },
     "execution_count": 12,
     "metadata": {},
     "output_type": "execute_result"
    }
   ],
   "source": [
    "random.randrange(-90,90,step = 3)"
   ]
  },
  {
   "cell_type": "code",
   "execution_count": 13,
   "id": "59b95e3c",
   "metadata": {},
   "outputs": [],
   "source": [
    "# Import the NumPy module.\n",
    "import numpy as np"
   ]
  },
  {
   "cell_type": "code",
   "execution_count": 14,
   "id": "a0603f5b",
   "metadata": {},
   "outputs": [
    {
     "data": {
      "text/plain": [
       "-3.2539475106957667"
      ]
     },
     "execution_count": 14,
     "metadata": {},
     "output_type": "execute_result"
    }
   ],
   "source": [
    "np.random.uniform(-90.000,90.000)"
   ]
  },
  {
   "cell_type": "code",
   "execution_count": 15,
   "id": "26481dc1",
   "metadata": {},
   "outputs": [
    {
     "data": {
      "text/plain": [
       "array([-73.82328562, -63.58719026,  17.00416371, -18.81813488,\n",
       "        54.28939136, -67.18764489, -20.39356863,  -8.09774474,\n",
       "        -9.38216001, -41.95684068, -18.21146378,  85.26051087,\n",
       "       -41.06199815,  88.56755711,  -1.96985013, -70.16486588,\n",
       "        41.70135867,  19.25554365, -42.83098614,  55.62678659,\n",
       "        54.23474848,  61.09943687,  67.20910389,  -5.14194539,\n",
       "        75.41078235,  36.29569062, -72.02804322,  61.10395722,\n",
       "       -62.17643366, -51.1250337 ,  38.16906427, -29.08169682,\n",
       "        83.56035957, -50.48981213, -47.48337598, -69.96718605,\n",
       "       -86.0032056 ,  58.04821792,  18.68436065,  89.63498222,\n",
       "        75.6055065 ,  58.04281257, -61.41409041, -66.69057985,\n",
       "        52.96433867, -27.65056689,  81.59146468, -42.58075242,\n",
       "        32.95184242, -70.72283606])"
      ]
     },
     "execution_count": 15,
     "metadata": {},
     "output_type": "execute_result"
    }
   ],
   "source": [
    "np.random.uniform(-90.000, 90.000, size=50)"
   ]
  },
  {
   "cell_type": "code",
   "execution_count": 16,
   "id": "cc515bef",
   "metadata": {},
   "outputs": [],
   "source": [
    "# Import timeit.\n",
    "import timeit"
   ]
  },
  {
   "cell_type": "code",
   "execution_count": 17,
   "id": "e91eac9f",
   "metadata": {},
   "outputs": [
    {
     "name": "stdout",
     "output_type": "stream",
     "text": [
      "34.3 µs ± 592 ns per loop (mean ± std. dev. of 7 runs, 10000 loops each)\n"
     ]
    }
   ],
   "source": [
    "%timeit np.random.uniform(-90.000, 90.000, size=1500)"
   ]
  },
  {
   "cell_type": "code",
   "execution_count": 18,
   "id": "a8d91c10",
   "metadata": {},
   "outputs": [
    {
     "name": "stdout",
     "output_type": "stream",
     "text": [
      "5.77 ms ± 82.3 µs per loop (mean ± std. dev. of 7 runs, 100 loops each)\n"
     ]
    }
   ],
   "source": [
    "def latitudes(size):\n",
    "    latitudes = []\n",
    "    x = 0\n",
    "    while x < (size):\n",
    "        random_lat = random.randint(-90, 90) + random.random()\n",
    "        latitudes.append(random_lat)\n",
    "        x += 1\n",
    "    return latitudes\n",
    "# Call the function with 1500.\n",
    "%timeit latitudes(1500)"
   ]
  },
  {
   "cell_type": "code",
   "execution_count": 20,
   "id": "f24b0096",
   "metadata": {},
   "outputs": [
    {
     "data": {
      "text/plain": [
       "array([ 6.83112198, 52.34211883, 62.11108726, ..., 23.64370837,\n",
       "       65.9922828 ,  7.6849076 ])"
      ]
     },
     "execution_count": 20,
     "metadata": {},
     "output_type": "execute_result"
    }
   ],
   "source": [
    "np.random.uniform(-90.000, 90.000, size=1500)"
   ]
  },
  {
   "cell_type": "code",
   "execution_count": null,
   "id": "c515996b",
   "metadata": {},
   "outputs": [],
   "source": []
  }
 ],
 "metadata": {
  "kernelspec": {
   "display_name": "PythonData",
   "language": "python",
   "name": "pythondata"
  },
  "language_info": {
   "codemirror_mode": {
    "name": "ipython",
    "version": 3
   },
   "file_extension": ".py",
   "mimetype": "text/x-python",
   "name": "python",
   "nbconvert_exporter": "python",
   "pygments_lexer": "ipython3",
   "version": "3.7.11"
  }
 },
 "nbformat": 4,
 "nbformat_minor": 5
}
